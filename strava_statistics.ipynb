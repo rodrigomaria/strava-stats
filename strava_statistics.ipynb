{
 "cells": [
  {
   "cell_type": "code",
   "execution_count": null,
   "metadata": {
    "id": "cwiP10T652pw"
   },
   "outputs": [],
   "source": [
    "# Importação de bibliotecas\n",
    "import datetime\n",
    "import ipywidgets as widgets\n",
    "import json\n",
    "import os\n",
    "import pandas as pd\n",
    "\n",
    "from IPython.display import display, clear_output\n",
    "from requests_oauthlib import OAuth2Session"
   ]
  },
  {
   "cell_type": "code",
   "execution_count": null,
   "metadata": {
    "id": "OQJtCH2rvoE_"
   },
   "outputs": [],
   "source": [
    "# Constantes e Métodos\n",
    "epoch_datetime = datetime.datetime(2025, 1, 1, 0, 0)\n",
    "\n",
    "EPOCH_TIMESTAMP = epoch_datetime.timestamp()\n",
    "\n",
    "QUANTITY_PAGES = 100\n",
    "\n",
    "TRANSLATE_ACTIVITIES = {\n",
    "    \"Hike\": \"Trilha\",\n",
    "    \"Crossfit\": \"Crossfit\",\n",
    "    \"Walk\": \"Caminhada\",\n",
    "    \"WeightTraining\": \"Levantamento de Peso\",\n",
    "    \"Run\": \"Corrida\",\n",
    "    \"Workout\": \"Treino\",\n",
    "    \"Swim\": \"Natação\",\n",
    "    \"Yoga\": \"Yoga\",\n",
    "    \"MountainBikeRide\": \"Bicicleta\",\n",
    "}\n",
    "\n",
    "\n",
    "def login_strava():\n",
    "    # Baseado na documentação presente em https://developers.strava.com/\n",
    "    # Defina local id, secret, e redirect_url - para gerar esses dados é necessário criar uma app no Strava\n",
    "    CLIENT_ID = os.environ.get(\"STRAVA_CLIENT_ID\")\n",
    "    CLIENT_SECRET = os.environ.get(\"STRAVA_CLIENT_SECRET\")\n",
    "    REDIRECT_URL = \"https://developers.strava.com\"\n",
    "\n",
    "    # Cria sessão\n",
    "    session = OAuth2Session(client_id=CLIENT_ID, redirect_uri=REDIRECT_URL)\n",
    "\n",
    "    # Define base auth url e escopo\n",
    "    AUTH_BASE_URL = \"https://www.strava.com/oauth/authorize\"\n",
    "    session.scope = [\"activity:read\"]\n",
    "\n",
    "    # Gerar link de autorização\n",
    "    auth_link = session.authorization_url(AUTH_BASE_URL)\n",
    "    print(f\"Clique aqui: {auth_link[0]}\")\n",
    "    redirect_response = input(f\"Cole a redirect url aqui e pressione a tecla ENTER: \")\n",
    "\n",
    "    # Obter token de sessão\n",
    "    TOKEN_URL = \"https://www.strava.com/api/v3/oauth/token\"\n",
    "    session.fetch_token(\n",
    "        token_url=TOKEN_URL,\n",
    "        client_id=CLIENT_ID,\n",
    "        client_secret=CLIENT_SECRET,\n",
    "        authorization_response=redirect_response,\n",
    "        include_client_id=True,\n",
    "    )\n",
    "\n",
    "    return session\n",
    "\n",
    "\n",
    "def generate_df_analysis_by_df(df, show_total):\n",
    "    activity_counts_dict = df[\"sport_type\"].value_counts().to_dict()\n",
    "    df_activity_counts = pd.DataFrame.from_dict(\n",
    "        activity_counts_dict, orient=\"index\", columns=[\"Count\"]\n",
    "    )\n",
    "\n",
    "    elapsed_time_by_activity_dict = (\n",
    "        df.groupby(\"sport_type\")[\"elapsed_time\"].sum().to_dict()\n",
    "    )\n",
    "    elapsed_time_dict = {\n",
    "        index: str(datetime.timedelta(seconds=value))\n",
    "        for index, value in elapsed_time_by_activity_dict.items()\n",
    "    }\n",
    "    df_elapsed_time = pd.DataFrame.from_dict(\n",
    "        elapsed_time_dict, orient=\"index\", columns=[\"Elapsed Time\"]\n",
    "    )\n",
    "\n",
    "    distance_by_activity_dict = df.groupby(\"sport_type\")[\"distance\"].sum().to_dict()\n",
    "    distance_dict = {\n",
    "        index: value / 1000 for index, value in distance_by_activity_dict.items()\n",
    "    }\n",
    "    df_distance = pd.DataFrame.from_dict(\n",
    "        distance_dict, orient=\"index\", columns=[\"Distance (km)\"]\n",
    "    )\n",
    "\n",
    "    total_elevation_gain_by_activity_dict = (\n",
    "        df.groupby(\"sport_type\")[\"total_elevation_gain\"].sum().to_dict()\n",
    "    )\n",
    "    df_elevation_gain = pd.DataFrame.from_dict(\n",
    "        total_elevation_gain_by_activity_dict,\n",
    "        orient=\"index\",\n",
    "        columns=[\"Elevation Gain (m)\"],\n",
    "    )\n",
    "\n",
    "    concat_df = pd.concat(\n",
    "        [df_activity_counts, df_elapsed_time, df_distance, df_elevation_gain], axis=1\n",
    "    )\n",
    "    concat_df.rename(index=TRANSLATE_ACTIVITIES, inplace=True)\n",
    "\n",
    "    concat_df[\"Elapsed Time\"] = pd.to_timedelta(concat_df[\"Elapsed Time\"])\n",
    "\n",
    "    if show_total:\n",
    "        concat_df.loc[\"Total\"] = concat_df.sum(numeric_only=False)\n",
    "        total_seconds = concat_df.loc[\"Total\", \"Elapsed Time\"].total_seconds()\n",
    "        concat_df.loc[\"Total\", \"Elapsed Time\"] = pd.to_timedelta(\n",
    "            total_seconds, unit=\"s\"\n",
    "        )\n",
    "\n",
    "    return concat_df\n",
    "\n",
    "\n",
    "def get_number_days_year():\n",
    "    today = datetime.date.today()\n",
    "    first_day_year = datetime.date(today.year, 1, 1)\n",
    "    return (today - first_day_year).days + 1"
   ]
  },
  {
   "cell_type": "code",
   "execution_count": null,
   "metadata": {
    "colab": {
     "base_uri": "https://localhost:8080/"
    },
    "id": "XvO_8j6m4AA_",
    "outputId": "c11a4321-2ac9-4fb6-d473-fd6a6529d87f"
   },
   "outputs": [],
   "source": [
    "# Login\n",
    "session = login_strava()\n",
    "\n",
    "# Request das informações do atleta logado\n",
    "response = session.get(\"https://www.strava.com/api/v3/athlete\")\n",
    "\n",
    "# Validação do login\n",
    "print(\"-\" * 100)\n",
    "print(f\"Status Code: {response.status_code}\")\n",
    "print(f\"Status: {response.reason}\")\n",
    "print(f\"Conteúdo: {json.dumps(response.json(), indent=2)}\")"
   ]
  },
  {
   "cell_type": "code",
   "execution_count": null,
   "metadata": {
    "colab": {
     "base_uri": "https://localhost:8080/"
    },
    "id": "4ab7P6Zh5ZBF",
    "outputId": "c9e904f4-4d73-4a30-e4d9-e0ba9f8e3fac"
   },
   "outputs": [],
   "source": [
    "# Obter todas as atividades\n",
    "all_activities = []\n",
    "page = 1\n",
    "\n",
    "while True:\n",
    "    response = session.get(\n",
    "        f\"https://www.strava.com/api/v3/athlete/activities?after={EPOCH_TIMESTAMP}&page={page}&per_page=50\"\n",
    "    )\n",
    "\n",
    "    if response.status_code != 200 or not response.json():\n",
    "        print(response.status_code, response.json(), response.reason)\n",
    "        break\n",
    "\n",
    "    print(f\"Dados Página {page}\")\n",
    "    all_activities.extend(response.json())\n",
    "    page += 1"
   ]
  },
  {
   "cell_type": "code",
   "execution_count": null,
   "metadata": {
    "colab": {
     "base_uri": "https://localhost:8080/",
     "height": 603
    },
    "id": "fBrv6LORmVAN",
    "outputId": "d3d98bb8-0da7-41b6-819f-40974d6af899"
   },
   "outputs": [],
   "source": [
    "# Crie um dataframe com as informações\n",
    "df = pd.DataFrame.from_dict(all_activities, orient=\"columns\")\n",
    "\n",
    "# Limpeza/ajuste das colunas\n",
    "df.drop(\"type\", axis=1, inplace=True)\n",
    "df.drop(\"resource_state\", axis=1, inplace=True)\n",
    "df.drop(\"athlete\", axis=1, inplace=True)\n",
    "df.start_date_local = pd.to_datetime(df.start_date_local)\n",
    "df.start_date = pd.to_datetime(df.start_date)\n",
    "\n",
    "df.tail(10)"
   ]
  },
  {
   "cell_type": "code",
   "execution_count": null,
   "metadata": {
    "colab": {
     "base_uri": "https://localhost:8080/",
     "height": 327,
     "referenced_widgets": [
      "43e6d22c4d294aba98a9d61e6598d03c",
      "b93a11db784149078bd7c00f4dea525f",
      "4f14f52a8cd343318055cb849d15a70b",
      "4512e9a99fec431097b96bb4b3faa0eb",
      "c4c20b1f44af4ae8adce838e8da0c9d8"
     ]
    },
    "id": "lEs_1jQ-8Qoo",
    "outputId": "94806877-89b7-48f5-af3d-9465958b94f6"
   },
   "outputs": [],
   "source": [
    "# Exibe dropdown de filtro\n",
    "def statistics_by_activity(df_filtered):\n",
    "    generated_df = generate_df_analysis_by_df(df_filtered, False)\n",
    "    display(generated_df)\n",
    "\n",
    "\n",
    "def on_change(change):\n",
    "    with output:\n",
    "        clear_output(wait=True)\n",
    "        if change[\"type\"] == \"change\" and change[\"name\"] == \"value\":\n",
    "            df_filtered = df[df[\"sport_type\"] == change[\"new\"]]\n",
    "            display(df_filtered)\n",
    "            statistics_by_activity(df_filtered)\n",
    "\n",
    "\n",
    "select = widgets.Select(\n",
    "    options=df.sport_type.unique(),\n",
    "    value=df.sport_type.unique()[0],\n",
    "    rows=9,\n",
    "    description=\"Selecione:\",\n",
    ")\n",
    "\n",
    "output = widgets.Output()\n",
    "\n",
    "on_change({\"type\": \"change\", \"name\": \"value\", \"new\": select.value})\n",
    "select.observe(on_change, names=\"value\")\n",
    "display(select, output)"
   ]
  },
  {
   "cell_type": "code",
   "execution_count": null,
   "metadata": {
    "colab": {
     "base_uri": "https://localhost:8080/",
     "height": 455
    },
    "id": "Rb-tVYt6Pn--",
    "outputId": "515b2c17-0e8b-42f0-d2c0-622f76e43a8d"
   },
   "outputs": [],
   "source": [
    "# Informações Gerais Anual\n",
    "print(f\"Total de Atividades: {len(df)}\")\n",
    "print(f\"Tempo Total: {int(df['elapsed_time'].sum() / 3600)}h\")\n",
    "print(f\"Distância Total: {df['distance'].sum() / 1000:.1f}km\")\n",
    "print(f\"Elevação Total: {df['total_elevation_gain'].sum()}m\")\n",
    "print(\n",
    "    f\"Dias de Atividade: {len(df['start_date_local'].dt.date.unique())}/{get_number_days_year()}\"\n",
    ")\n",
    "\n",
    "unique_df = generate_df_analysis_by_df(df, True)\n",
    "display(unique_df)"
   ]
  },
  {
   "cell_type": "code",
   "execution_count": null,
   "metadata": {
    "colab": {
     "base_uri": "https://localhost:8080/",
     "height": 294
    },
    "id": "4-JpHfW4Q9qZ",
    "outputId": "5ab86d6e-2fd6-47e6-95b3-e040fbafb1c3"
   },
   "outputs": [],
   "source": [
    "# Informações Semanais\n",
    "def print_infos(this_week_grouped):\n",
    "    print(\"-\" * 35)\n",
    "    print(WEEK)\n",
    "    print(this_week_grouped)\n",
    "    print(\"-\" * 35)\n",
    "    print(f\"Distance: {round(this_week_grouped.distance.sum() / 1000, 2) }km\")\n",
    "    print(\n",
    "        f\"Time: {datetime.timedelta(seconds=int(this_week_grouped.elapsed_time.sum()))}\"\n",
    "    )\n",
    "\n",
    "\n",
    "def generate_this_week_df(WEEK):\n",
    "    start_date = pd.to_datetime(WEEKS_DICT[WEEK][\"start_date\"], utc=True)\n",
    "    end_date = pd.to_datetime(WEEKS_DICT[WEEK][\"end_date\"], utc=True)\n",
    "    this_week_df = df[\n",
    "        (df[\"start_date_local\"] >= start_date) & (df[\"start_date_local\"] <= end_date)\n",
    "    ]\n",
    "    return this_week_df\n",
    "\n",
    "# def anual_mondays():\n",
    "#     d = datetime.date(2025, 4, 14)\n",
    "#     d += datetime.timedelta(days=(7 - d.weekday()) % 7)\n",
    "#     mondays = []\n",
    "#     while d.year == 2025:\n",
    "#         mondays.append(d)\n",
    "#         d += datetime.timedelta(days=7)\n",
    "#     return mondays\n",
    "\n",
    "#\n",
    "# for monday in anual_mondays():\n",
    "#     print(monday)\n",
    "\n",
    "\n",
    "WEEKS_DICT = {\n",
    "    \"Week 1\": {\"start_date\": \"2025-04-14\", \"end_date\": \"2025-04-20\"},\n",
    "    \"Week 2\": {\"start_date\": \"2025-04-21\", \"end_date\": \"2025-04-27\"},\n",
    "}\n",
    "\n",
    "WEEK = \"Week 2\"\n",
    "\n",
    "this_week_df = generate_this_week_df(WEEK)\n",
    "\n",
    "display(this_week_df)\n",
    "\n",
    "this_week_grouped = this_week_df.groupby(\"sport_type\").agg(\n",
    "    {\"distance\": \"sum\", \"elapsed_time\": \"sum\"}\n",
    ")\n",
    "\n",
    "print_infos(this_week_grouped)"
   ]
  },
  {
   "cell_type": "code",
   "execution_count": null,
   "metadata": {},
   "outputs": [],
   "source": []
  }
 ],
 "metadata": {
  "colab": {
   "provenance": []
  },
  "kernelspec": {
   "display_name": "Python 3 (ipykernel)",
   "language": "python",
   "name": "python3"
  },
  "language_info": {
   "codemirror_mode": {
    "name": "ipython",
    "version": 3
   },
   "file_extension": ".py",
   "mimetype": "text/x-python",
   "name": "python",
   "nbconvert_exporter": "python",
   "pygments_lexer": "ipython3",
   "version": "3.9.22"
  },
  "widgets": {
   "application/vnd.jupyter.widget-state+json": {
    "43e6d22c4d294aba98a9d61e6598d03c": {
     "model_module": "@jupyter-widgets/controls",
     "model_module_version": "1.5.0",
     "model_name": "DropdownModel",
     "state": {
      "_dom_classes": [],
      "_model_module": "@jupyter-widgets/controls",
      "_model_module_version": "1.5.0",
      "_model_name": "DropdownModel",
      "_options_labels": [
       "Hike",
       "Crossfit",
       "Walk",
       "WeightTraining",
       "Run",
       "Workout",
       "Yoga",
       "MountainBikeRide",
       "Swim"
      ],
      "_view_count": null,
      "_view_module": "@jupyter-widgets/controls",
      "_view_module_version": "1.5.0",
      "_view_name": "DropdownView",
      "description": "Selecione o tipo de esporte:",
      "description_tooltip": null,
      "disabled": false,
      "index": 0,
      "layout": "IPY_MODEL_b93a11db784149078bd7c00f4dea525f",
      "style": "IPY_MODEL_4f14f52a8cd343318055cb849d15a70b"
     }
    },
    "4512e9a99fec431097b96bb4b3faa0eb": {
     "model_module": "@jupyter-widgets/output",
     "model_module_version": "1.0.0",
     "model_name": "OutputModel",
     "state": {
      "_dom_classes": [],
      "_model_module": "@jupyter-widgets/output",
      "_model_module_version": "1.0.0",
      "_model_name": "OutputModel",
      "_view_count": null,
      "_view_module": "@jupyter-widgets/output",
      "_view_module_version": "1.0.0",
      "_view_name": "OutputView",
      "layout": "IPY_MODEL_c4c20b1f44af4ae8adce838e8da0c9d8",
      "msg_id": "",
      "outputs": [
       {
        "data": {
         "application/vnd.google.colaboratory.intrinsic+json": {
          "type": "dataframe"
         },
         "text/html": "\n  <div id=\"df-f39a9425-3f1a-459c-b2a5-81ed576c8a74\" class=\"colab-df-container\">\n    <div>\n<style scoped>\n    .dataframe tbody tr th:only-of-type {\n        vertical-align: middle;\n    }\n\n    .dataframe tbody tr th {\n        vertical-align: top;\n    }\n\n    .dataframe thead th {\n        text-align: right;\n    }\n</style>\n<table border=\"1\" class=\"dataframe\">\n  <thead>\n    <tr style=\"text-align: right;\">\n      <th></th>\n      <th>name</th>\n      <th>distance</th>\n      <th>moving_time</th>\n      <th>elapsed_time</th>\n      <th>total_elevation_gain</th>\n      <th>type</th>\n      <th>sport_type</th>\n      <th>id</th>\n      <th>start_date</th>\n      <th>start_date_local</th>\n      <th>...</th>\n      <th>has_kudoed</th>\n      <th>suffer_score</th>\n      <th>average_cadence</th>\n      <th>workout_type</th>\n      <th>average_watts</th>\n      <th>max_watts</th>\n      <th>weighted_average_watts</th>\n      <th>device_watts</th>\n      <th>kilojoules</th>\n      <th>average_temp</th>\n    </tr>\n  </thead>\n  <tbody>\n    <tr>\n      <th>0</th>\n      <td>Morning Hike</td>\n      <td>284.4</td>\n      <td>352</td>\n      <td>886</td>\n      <td>14.0</td>\n      <td>Hike</td>\n      <td>Hike</td>\n      <td>13238334403</td>\n      <td>2025-01-01 13:17:42+00:00</td>\n      <td>2025-01-01 10:17:42+00:00</td>\n      <td>...</td>\n      <td>False</td>\n      <td>0.0</td>\n      <td>NaN</td>\n      <td>NaN</td>\n      <td>NaN</td>\n      <td>NaN</td>\n      <td>NaN</td>\n      <td>NaN</td>\n      <td>NaN</td>\n      <td>NaN</td>\n    </tr>\n    <tr>\n      <th>1</th>\n      <td>Primeira do ano com eles ❤️</td>\n      <td>511.0</td>\n      <td>730</td>\n      <td>1441</td>\n      <td>35.0</td>\n      <td>Hike</td>\n      <td>Hike</td>\n      <td>13240481316</td>\n      <td>2025-01-01 16:38:45+00:00</td>\n      <td>2025-01-01 13:38:45+00:00</td>\n      <td>...</td>\n      <td>False</td>\n      <td>1.0</td>\n      <td>NaN</td>\n      <td>NaN</td>\n      <td>NaN</td>\n      <td>NaN</td>\n      <td>NaN</td>\n      <td>NaN</td>\n      <td>NaN</td>\n      <td>NaN</td>\n    </tr>\n  </tbody>\n</table>\n<p>2 rows × 55 columns</p>\n</div>\n    <div class=\"colab-df-buttons\">\n\n  <div class=\"colab-df-container\">\n    <button class=\"colab-df-convert\" onclick=\"convertToInteractive('df-f39a9425-3f1a-459c-b2a5-81ed576c8a74')\"\n            title=\"Convert this dataframe to an interactive table.\"\n            style=\"display:none;\">\n\n  <svg xmlns=\"http://www.w3.org/2000/svg\" height=\"24px\" viewBox=\"0 -960 960 960\">\n    <path d=\"M120-120v-720h720v720H120Zm60-500h600v-160H180v160Zm220 220h160v-160H400v160Zm0 220h160v-160H400v160ZM180-400h160v-160H180v160Zm440 0h160v-160H620v160ZM180-180h160v-160H180v160Zm440 0h160v-160H620v160Z\"/>\n  </svg>\n    </button>\n\n  <style>\n    .colab-df-container {\n      display:flex;\n      gap: 12px;\n    }\n\n    .colab-df-convert {\n      background-color: #E8F0FE;\n      border: none;\n      border-radius: 50%;\n      cursor: pointer;\n      display: none;\n      fill: #1967D2;\n      height: 32px;\n      padding: 0 0 0 0;\n      width: 32px;\n    }\n\n    .colab-df-convert:hover {\n      background-color: #E2EBFA;\n      box-shadow: 0px 1px 2px rgba(60, 64, 67, 0.3), 0px 1px 3px 1px rgba(60, 64, 67, 0.15);\n      fill: #174EA6;\n    }\n\n    .colab-df-buttons div {\n      margin-bottom: 4px;\n    }\n\n    [theme=dark] .colab-df-convert {\n      background-color: #3B4455;\n      fill: #D2E3FC;\n    }\n\n    [theme=dark] .colab-df-convert:hover {\n      background-color: #434B5C;\n      box-shadow: 0px 1px 3px 1px rgba(0, 0, 0, 0.15);\n      filter: drop-shadow(0px 1px 2px rgba(0, 0, 0, 0.3));\n      fill: #FFFFFF;\n    }\n  </style>\n\n    <script>\n      const buttonEl =\n        document.querySelector('#df-f39a9425-3f1a-459c-b2a5-81ed576c8a74 button.colab-df-convert');\n      buttonEl.style.display =\n        google.colab.kernel.accessAllowed ? 'block' : 'none';\n\n      async function convertToInteractive(key) {\n        const element = document.querySelector('#df-f39a9425-3f1a-459c-b2a5-81ed576c8a74');\n        const dataTable =\n          await google.colab.kernel.invokeFunction('convertToInteractive',\n                                                    [key], {});\n        if (!dataTable) return;\n\n        const docLinkHtml = 'Like what you see? Visit the ' +\n          '<a target=\"_blank\" href=https://colab.research.google.com/notebooks/data_table.ipynb>data table notebook</a>'\n          + ' to learn more about interactive tables.';\n        element.innerHTML = '';\n        dataTable['output_type'] = 'display_data';\n        await google.colab.output.renderOutput(dataTable, element);\n        const docLink = document.createElement('div');\n        docLink.innerHTML = docLinkHtml;\n        element.appendChild(docLink);\n      }\n    </script>\n  </div>\n\n\n<div id=\"df-73e3da9a-6e62-4781-8bc9-ca3d260f59a9\">\n  <button class=\"colab-df-quickchart\" onclick=\"quickchart('df-73e3da9a-6e62-4781-8bc9-ca3d260f59a9')\"\n            title=\"Suggest charts\"\n            style=\"display:none;\">\n\n<svg xmlns=\"http://www.w3.org/2000/svg\" height=\"24px\"viewBox=\"0 0 24 24\"\n     width=\"24px\">\n    <g>\n        <path d=\"M19 3H5c-1.1 0-2 .9-2 2v14c0 1.1.9 2 2 2h14c1.1 0 2-.9 2-2V5c0-1.1-.9-2-2-2zM9 17H7v-7h2v7zm4 0h-2V7h2v10zm4 0h-2v-4h2v4z\"/>\n    </g>\n</svg>\n  </button>\n\n<style>\n  .colab-df-quickchart {\n      --bg-color: #E8F0FE;\n      --fill-color: #1967D2;\n      --hover-bg-color: #E2EBFA;\n      --hover-fill-color: #174EA6;\n      --disabled-fill-color: #AAA;\n      --disabled-bg-color: #DDD;\n  }\n\n  [theme=dark] .colab-df-quickchart {\n      --bg-color: #3B4455;\n      --fill-color: #D2E3FC;\n      --hover-bg-color: #434B5C;\n      --hover-fill-color: #FFFFFF;\n      --disabled-bg-color: #3B4455;\n      --disabled-fill-color: #666;\n  }\n\n  .colab-df-quickchart {\n    background-color: var(--bg-color);\n    border: none;\n    border-radius: 50%;\n    cursor: pointer;\n    display: none;\n    fill: var(--fill-color);\n    height: 32px;\n    padding: 0;\n    width: 32px;\n  }\n\n  .colab-df-quickchart:hover {\n    background-color: var(--hover-bg-color);\n    box-shadow: 0 1px 2px rgba(60, 64, 67, 0.3), 0 1px 3px 1px rgba(60, 64, 67, 0.15);\n    fill: var(--button-hover-fill-color);\n  }\n\n  .colab-df-quickchart-complete:disabled,\n  .colab-df-quickchart-complete:disabled:hover {\n    background-color: var(--disabled-bg-color);\n    fill: var(--disabled-fill-color);\n    box-shadow: none;\n  }\n\n  .colab-df-spinner {\n    border: 2px solid var(--fill-color);\n    border-color: transparent;\n    border-bottom-color: var(--fill-color);\n    animation:\n      spin 1s steps(1) infinite;\n  }\n\n  @keyframes spin {\n    0% {\n      border-color: transparent;\n      border-bottom-color: var(--fill-color);\n      border-left-color: var(--fill-color);\n    }\n    20% {\n      border-color: transparent;\n      border-left-color: var(--fill-color);\n      border-top-color: var(--fill-color);\n    }\n    30% {\n      border-color: transparent;\n      border-left-color: var(--fill-color);\n      border-top-color: var(--fill-color);\n      border-right-color: var(--fill-color);\n    }\n    40% {\n      border-color: transparent;\n      border-right-color: var(--fill-color);\n      border-top-color: var(--fill-color);\n    }\n    60% {\n      border-color: transparent;\n      border-right-color: var(--fill-color);\n    }\n    80% {\n      border-color: transparent;\n      border-right-color: var(--fill-color);\n      border-bottom-color: var(--fill-color);\n    }\n    90% {\n      border-color: transparent;\n      border-bottom-color: var(--fill-color);\n    }\n  }\n</style>\n\n  <script>\n    async function quickchart(key) {\n      const quickchartButtonEl =\n        document.querySelector('#' + key + ' button');\n      quickchartButtonEl.disabled = true;  // To prevent multiple clicks.\n      quickchartButtonEl.classList.add('colab-df-spinner');\n      try {\n        const charts = await google.colab.kernel.invokeFunction(\n            'suggestCharts', [key], {});\n      } catch (error) {\n        console.error('Error during call to suggestCharts:', error);\n      }\n      quickchartButtonEl.classList.remove('colab-df-spinner');\n      quickchartButtonEl.classList.add('colab-df-quickchart-complete');\n    }\n    (() => {\n      let quickchartButtonEl =\n        document.querySelector('#df-73e3da9a-6e62-4781-8bc9-ca3d260f59a9 button');\n      quickchartButtonEl.style.display =\n        google.colab.kernel.accessAllowed ? 'block' : 'none';\n    })();\n  </script>\n</div>\n\n    </div>\n  </div>\n",
         "text/plain": "                          name  distance  moving_time  elapsed_time  \\\n0                 Morning Hike     284.4          352           886   \n1  Primeira do ano com eles ❤️     511.0          730          1441   \n\n   total_elevation_gain  type sport_type           id  \\\n0                  14.0  Hike       Hike  13238334403   \n1                  35.0  Hike       Hike  13240481316   \n\n                 start_date          start_date_local  ... has_kudoed  \\\n0 2025-01-01 13:17:42+00:00 2025-01-01 10:17:42+00:00  ...      False   \n1 2025-01-01 16:38:45+00:00 2025-01-01 13:38:45+00:00  ...      False   \n\n   suffer_score average_cadence workout_type average_watts  max_watts  \\\n0           0.0             NaN          NaN           NaN        NaN   \n1           1.0             NaN          NaN           NaN        NaN   \n\n   weighted_average_watts  device_watts  kilojoules  average_temp  \n0                     NaN           NaN         NaN           NaN  \n1                     NaN           NaN         NaN           NaN  \n\n[2 rows x 55 columns]"
        },
        "metadata": {},
        "output_type": "display_data"
       },
       {
        "data": {
         "application/vnd.google.colaboratory.intrinsic+json": {
          "summary": "{\n  \"name\": \"display(dropdown, output)\",\n  \"rows\": 1,\n  \"fields\": [\n    {\n      \"column\": \"Count\",\n      \"properties\": {\n        \"dtype\": \"number\",\n        \"std\": null,\n        \"min\": 2,\n        \"max\": 2,\n        \"num_unique_values\": 1,\n        \"samples\": [\n          2\n        ],\n        \"semantic_type\": \"\",\n        \"description\": \"\"\n      }\n    },\n    {\n      \"column\": \"Elapsed Time\",\n      \"properties\": {\n        \"dtype\": \"timedelta64[ns]\",\n        \"num_unique_values\": 1,\n        \"samples\": [\n          \"0 days 00:38:47\"\n        ],\n        \"semantic_type\": \"\",\n        \"description\": \"\"\n      }\n    },\n    {\n      \"column\": \"Distance (km)\",\n      \"properties\": {\n        \"dtype\": \"number\",\n        \"std\": null,\n        \"min\": 0.7954,\n        \"max\": 0.7954,\n        \"num_unique_values\": 1,\n        \"samples\": [\n          0.7954\n        ],\n        \"semantic_type\": \"\",\n        \"description\": \"\"\n      }\n    },\n    {\n      \"column\": \"Elevation Gain (m)\",\n      \"properties\": {\n        \"dtype\": \"number\",\n        \"std\": null,\n        \"min\": 49.0,\n        \"max\": 49.0,\n        \"num_unique_values\": 1,\n        \"samples\": [\n          49.0\n        ],\n        \"semantic_type\": \"\",\n        \"description\": \"\"\n      }\n    }\n  ]\n}",
          "type": "dataframe"
         },
         "text/html": "\n  <div id=\"df-4fc13838-59fa-4f0d-90e4-5f97ff45dd47\" class=\"colab-df-container\">\n    <div>\n<style scoped>\n    .dataframe tbody tr th:only-of-type {\n        vertical-align: middle;\n    }\n\n    .dataframe tbody tr th {\n        vertical-align: top;\n    }\n\n    .dataframe thead th {\n        text-align: right;\n    }\n</style>\n<table border=\"1\" class=\"dataframe\">\n  <thead>\n    <tr style=\"text-align: right;\">\n      <th></th>\n      <th>Count</th>\n      <th>Elapsed Time</th>\n      <th>Distance (km)</th>\n      <th>Elevation Gain (m)</th>\n    </tr>\n  </thead>\n  <tbody>\n    <tr>\n      <th>Trilha</th>\n      <td>2</td>\n      <td>0 days 00:38:47</td>\n      <td>0.7954</td>\n      <td>49.0</td>\n    </tr>\n  </tbody>\n</table>\n</div>\n    <div class=\"colab-df-buttons\">\n\n  <div class=\"colab-df-container\">\n    <button class=\"colab-df-convert\" onclick=\"convertToInteractive('df-4fc13838-59fa-4f0d-90e4-5f97ff45dd47')\"\n            title=\"Convert this dataframe to an interactive table.\"\n            style=\"display:none;\">\n\n  <svg xmlns=\"http://www.w3.org/2000/svg\" height=\"24px\" viewBox=\"0 -960 960 960\">\n    <path d=\"M120-120v-720h720v720H120Zm60-500h600v-160H180v160Zm220 220h160v-160H400v160Zm0 220h160v-160H400v160ZM180-400h160v-160H180v160Zm440 0h160v-160H620v160ZM180-180h160v-160H180v160Zm440 0h160v-160H620v160Z\"/>\n  </svg>\n    </button>\n\n  <style>\n    .colab-df-container {\n      display:flex;\n      gap: 12px;\n    }\n\n    .colab-df-convert {\n      background-color: #E8F0FE;\n      border: none;\n      border-radius: 50%;\n      cursor: pointer;\n      display: none;\n      fill: #1967D2;\n      height: 32px;\n      padding: 0 0 0 0;\n      width: 32px;\n    }\n\n    .colab-df-convert:hover {\n      background-color: #E2EBFA;\n      box-shadow: 0px 1px 2px rgba(60, 64, 67, 0.3), 0px 1px 3px 1px rgba(60, 64, 67, 0.15);\n      fill: #174EA6;\n    }\n\n    .colab-df-buttons div {\n      margin-bottom: 4px;\n    }\n\n    [theme=dark] .colab-df-convert {\n      background-color: #3B4455;\n      fill: #D2E3FC;\n    }\n\n    [theme=dark] .colab-df-convert:hover {\n      background-color: #434B5C;\n      box-shadow: 0px 1px 3px 1px rgba(0, 0, 0, 0.15);\n      filter: drop-shadow(0px 1px 2px rgba(0, 0, 0, 0.3));\n      fill: #FFFFFF;\n    }\n  </style>\n\n    <script>\n      const buttonEl =\n        document.querySelector('#df-4fc13838-59fa-4f0d-90e4-5f97ff45dd47 button.colab-df-convert');\n      buttonEl.style.display =\n        google.colab.kernel.accessAllowed ? 'block' : 'none';\n\n      async function convertToInteractive(key) {\n        const element = document.querySelector('#df-4fc13838-59fa-4f0d-90e4-5f97ff45dd47');\n        const dataTable =\n          await google.colab.kernel.invokeFunction('convertToInteractive',\n                                                    [key], {});\n        if (!dataTable) return;\n\n        const docLinkHtml = 'Like what you see? Visit the ' +\n          '<a target=\"_blank\" href=https://colab.research.google.com/notebooks/data_table.ipynb>data table notebook</a>'\n          + ' to learn more about interactive tables.';\n        element.innerHTML = '';\n        dataTable['output_type'] = 'display_data';\n        await google.colab.output.renderOutput(dataTable, element);\n        const docLink = document.createElement('div');\n        docLink.innerHTML = docLinkHtml;\n        element.appendChild(docLink);\n      }\n    </script>\n  </div>\n\n\n    </div>\n  </div>\n",
         "text/plain": "        Count    Elapsed Time  Distance (km)  Elevation Gain (m)\nTrilha      2 0 days 00:38:47         0.7954                49.0"
        },
        "metadata": {},
        "output_type": "display_data"
       }
      ]
     }
    },
    "4f14f52a8cd343318055cb849d15a70b": {
     "model_module": "@jupyter-widgets/controls",
     "model_module_version": "1.5.0",
     "model_name": "DescriptionStyleModel",
     "state": {
      "_model_module": "@jupyter-widgets/controls",
      "_model_module_version": "1.5.0",
      "_model_name": "DescriptionStyleModel",
      "_view_count": null,
      "_view_module": "@jupyter-widgets/base",
      "_view_module_version": "1.2.0",
      "_view_name": "StyleView",
      "description_width": ""
     }
    },
    "b93a11db784149078bd7c00f4dea525f": {
     "model_module": "@jupyter-widgets/base",
     "model_module_version": "1.2.0",
     "model_name": "LayoutModel",
     "state": {
      "_model_module": "@jupyter-widgets/base",
      "_model_module_version": "1.2.0",
      "_model_name": "LayoutModel",
      "_view_count": null,
      "_view_module": "@jupyter-widgets/base",
      "_view_module_version": "1.2.0",
      "_view_name": "LayoutView",
      "align_content": null,
      "align_items": null,
      "align_self": null,
      "border": null,
      "bottom": null,
      "display": null,
      "flex": null,
      "flex_flow": null,
      "grid_area": null,
      "grid_auto_columns": null,
      "grid_auto_flow": null,
      "grid_auto_rows": null,
      "grid_column": null,
      "grid_gap": null,
      "grid_row": null,
      "grid_template_areas": null,
      "grid_template_columns": null,
      "grid_template_rows": null,
      "height": null,
      "justify_content": null,
      "justify_items": null,
      "left": null,
      "margin": null,
      "max_height": null,
      "max_width": null,
      "min_height": null,
      "min_width": null,
      "object_fit": null,
      "object_position": null,
      "order": null,
      "overflow": null,
      "overflow_x": null,
      "overflow_y": null,
      "padding": null,
      "right": null,
      "top": null,
      "visibility": null,
      "width": null
     }
    },
    "c4c20b1f44af4ae8adce838e8da0c9d8": {
     "model_module": "@jupyter-widgets/base",
     "model_module_version": "1.2.0",
     "model_name": "LayoutModel",
     "state": {
      "_model_module": "@jupyter-widgets/base",
      "_model_module_version": "1.2.0",
      "_model_name": "LayoutModel",
      "_view_count": null,
      "_view_module": "@jupyter-widgets/base",
      "_view_module_version": "1.2.0",
      "_view_name": "LayoutView",
      "align_content": null,
      "align_items": null,
      "align_self": null,
      "border": null,
      "bottom": null,
      "display": null,
      "flex": null,
      "flex_flow": null,
      "grid_area": null,
      "grid_auto_columns": null,
      "grid_auto_flow": null,
      "grid_auto_rows": null,
      "grid_column": null,
      "grid_gap": null,
      "grid_row": null,
      "grid_template_areas": null,
      "grid_template_columns": null,
      "grid_template_rows": null,
      "height": null,
      "justify_content": null,
      "justify_items": null,
      "left": null,
      "margin": null,
      "max_height": null,
      "max_width": null,
      "min_height": null,
      "min_width": null,
      "object_fit": null,
      "object_position": null,
      "order": null,
      "overflow": null,
      "overflow_x": null,
      "overflow_y": null,
      "padding": null,
      "right": null,
      "top": null,
      "visibility": null,
      "width": null
     }
    }
   }
  }
 },
 "nbformat": 4,
 "nbformat_minor": 4
}
